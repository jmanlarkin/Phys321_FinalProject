{
 "cells": [
  {
   "cell_type": "code",
   "execution_count": 1,
   "id": "2c560bc6",
   "metadata": {},
   "outputs": [],
   "source": [
    "import numpy as np\n",
    "import matplotlib.pyplot as plt"
   ]
  },
  {
   "cell_type": "code",
   "execution_count": 83,
   "id": "2514d3b4",
   "metadata": {},
   "outputs": [
    {
     "data": {
      "text/plain": [
       "(array([ 0.,  0.,  0.,  1.,  1.,  4., 27., 32., 50., 68., 53., 41., 16.,\n",
       "         6.,  1.,  0.,  0.,  0.,  0.]),\n",
       " array([0.        , 0.05263158, 0.10526316, 0.15789474, 0.21052632,\n",
       "        0.26315789, 0.31578947, 0.36842105, 0.42105263, 0.47368421,\n",
       "        0.52631579, 0.57894737, 0.63157895, 0.68421053, 0.73684211,\n",
       "        0.78947368, 0.84210526, 0.89473684, 0.94736842, 1.        ]),\n",
       " <BarContainer object of 19 artists>)"
      ]
     },
     "execution_count": 83,
     "metadata": {},
     "output_type": "execute_result"
    },
    {
     "data": {
      "image/png": "[encoded data removed]",
      "text/plain": [
       "<Figure size 720x432 with 1 Axes>"
      ]
     },
     "metadata": {
      "needs_background": "light"
     },
     "output_type": "display_data"
    }
   ],
   "source": [
    "N = 300\n",
    "true_mu = 0.5\n",
    "true_sigma = 0.1\n",
    "\n",
    "np.random.seed(1111)\n",
    "x = range(1, N+1)\n",
    "#y = np.sort(np.random.normal(true_mu, true_sigma, N)) + 0.05*(np.random.rand(N) - np.random.rand(N))\n",
    "y = np.sort(np.random.normal(true_mu, true_sigma, N))\n",
    "for i in range(len(y)):\n",
    "    if y[i] < 0:\n",
    "        y[i] = 0\n",
    "    elif y[i] > 1:\n",
    "        y[i] = 1\n",
    "yerr = 0.05 * np.random.rand(N)\n",
    "\n",
    "bins = np.linspace(0, 1., 20)\n",
    "plt.figure(figsize = (10, 6))\n",
    "plt.hist(y, bins = bins)"
   ]
  },
  {
   "cell_type": "code",
   "execution_count": 72,
   "id": "dfc52839",
   "metadata": {},
   "outputs": [],
   "source": [
    "def log_likelihood(theta, y):\n",
    "    mu, sigma = theta\n",
    "    sigma2 = sigma ** 2\n",
    "    ll = (-1 / (2 * sigma2) * np.sum((y - mu) ** 2 )) + np.log(1 / np.sqrt(sigma2))\n",
    "    if not np.isfinite(ll):\n",
    "        return -np.inf\n",
    "    return ll\n",
    "\n",
    "def log_prior(theta, mu_prior = 0.55):\n",
    "    mu, sigma = theta\n",
    "    sigma2 = sigma ** 2\n",
    "    lp = (-1 / (2 * sigma2) * (mu_prior - mu) ** 2) + np.log(1 / np.sqrt(sigma2))\n",
    "    if not np.isfinite(lp):\n",
    "        return -np.inf\n",
    "    return lp\n",
    "\n",
    "def log_posterior(theta, y):\n",
    "    lp = log_prior(theta)\n",
    "    ll = log_likelihood(theta, y)\n",
    "    if not np.isfinite(lp):\n",
    "        return -np.inf\n",
    "    if not np.isfinite(ll):\n",
    "        return -np.inf\n",
    "    return lp + ll"
   ]
  },
  {
   "cell_type": "code",
   "execution_count": 79,
   "id": "319d8b40-72df-49ff-a795-851cd25ff404",
   "metadata": {},
   "outputs": [
    {
     "name": "stderr",
     "output_type": "stream",
     "text": [
      "100%|██████████| 5000/5000 [00:04<00:00, 1174.57it/s]\n"
     ]
    }
   ],
   "source": [
    "import emcee\n",
    "\n",
    "num_iter = 5000\n",
    "ndim = 2\n",
    "nwalkers = 32\n",
    "initial_pos = np.array((.5, .2)) + 0.01 * np.random.randn(nwalkers, ndim)\n",
    "sampler = emcee.EnsembleSampler(nwalkers, ndim, log_posterior, args=[y])\n",
    "sampler.run_mcmc(initial_pos, num_iter, progress=True);"
   ]
  },
  {
   "cell_type": "code",
   "execution_count": 81,
   "id": "03fcaa33-e78e-4937-968e-514f372bd946",
   "metadata": {},
   "outputs": [
    {
     "name": "stdout",
     "output_type": "stream",
     "text": [
      "Test\n"
     ]
    },
    {
     "data": {
      "image/png": "[encoded data removed]",
      "text/plain": [
       "<Figure size 432x288 with 1 Axes>"
      ]
     },
     "metadata": {
      "needs_background": "light"
     },
     "output_type": "display_data"
    }
   ],
   "source": [
    "mu_marg = sampler.get_chain(discard=100, thin=15, flat=True).T[0]\n",
    "sigma_marg = sampler.get_chain(discard=100, thin=15, flat=True).T[1]\n",
    "bins = np.linspace(0, 1., 20)\n",
    "plt.hist(mu_marg, bins=bins, density = True)\n",
    "#plt.hist(sigma_marg ** 2, bins=bins, density = True)\n",
    "print('Test')"
   ]
  },
  {
   "cell_type": "code",
   "execution_count": 75,
   "id": "2de76b33",
   "metadata": {},
   "outputs": [
    {
     "name": "stderr",
     "output_type": "stream",
     "text": [
      "WARNING:root:Too few points to create valid contours\n"
     ]
    },
    {
     "data": {
      "image/png": "[encoded data removed]",
      "text/plain": [
       "<Figure size 396x396 with 4 Axes>"
      ]
     },
     "metadata": {
      "needs_background": "light"
     },
     "output_type": "display_data"
    }
   ],
   "source": [
    "import corner\n",
    "\n",
    "flat_samples = sampler.get_chain(discard=1000, thin=15, flat=True)\n",
    "flat_samples.T[1] = flat_samples.T[1] ** 2\n",
    "\n",
    "labels = ['mu', 'sigma2']\n",
    "fig = corner.corner(flat_samples, labels=labels, quantiles=[0.16, 0.5, 0.84]);"
   ]
  },
  {
   "cell_type": "code",
   "execution_count": 76,
   "id": "81aaa2a1",
   "metadata": {},
   "outputs": [],
   "source": [
    "# Not useful for now\n",
    "#\n",
    "#inds = np.random.randint(len(flat_samples), size=100)\n",
    "#x0 = np.linspace(0, 1, 300)\n",
    "#f, ax = plt.subplots(figsize=(10,6))\n",
    "#for ind in inds:\n",
    "#    sample = flat_samples[ind]\n",
    "#    ax.plot(x0, 1/(2*np.pi*sample[1])**0.5 * np.exp(-(x-sample[0])**2/(2*sample[1])), alpha=0.05, color='red')\n",
    "#ax.errorbar(x, y, yerr=yerr, linestyle = 'None',capsize=1, marker ='o', color='black', ms=3)\n",
    "#ax.set_xlim(0, 1)\n",
    "#ax.set_ylim(0, 1)\n",
    "#ax.set_xlabel('Approval', size = 12)\n",
    "#ax.set_ylabel('Probability of winning', size = 12)"
   ]
  },
  {
   "cell_type": "code",
   "execution_count": null,
   "id": "fd91b849",
   "metadata": {},
   "outputs": [],
   "source": []
  },
  {
   "cell_type": "code",
   "execution_count": null,
   "id": "56a07caf",
   "metadata": {},
   "outputs": [],
   "source": []
  }
 ],
 "metadata": {
  "kernelspec": {
   "display_name": "Python 3 (ipykernel)",
   "language": "python",
   "name": "python3"
  },
  "language_info": {
   "codemirror_mode": {
    "name": "ipython",
    "version": 3
   },
   "file_extension": ".py",
   "mimetype": "text/x-python",
   "name": "python",
   "nbconvert_exporter": "python",
   "pygments_lexer": "ipython3",
   "version": "3.9.7"
  }
 },
 "nbformat": 4,
 "nbformat_minor": 5
}
