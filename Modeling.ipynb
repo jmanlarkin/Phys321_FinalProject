{
 "cells": [
  {
   "cell_type": "code",
   "execution_count": 203,
   "id": "7ad4d199-7c38-493e-b31a-4365916569bf",
   "metadata": {},
   "outputs": [],
   "source": [
    "import numpy as np\n",
    "import matplotlib.pyplot as plt\n",
    "import pandas as pd\n",
    "import emcee\n",
    "import corner\n",
    "import matplotlib.ticker as mtick\n",
    "from scipy.optimize import curve_fit\n",
    "from scipy.stats.distributions import chi2\n",
    "from scipy.stats import multivariate_normal, norm\n",
    "from os import listdir\n",
    "from tqdm import tqdm_notebook as tqdm\n",
    "import matplotlib as mpl\n",
    "%matplotlib inline\n",
    "\n",
    "new_rc_params = {'text.usetex': False,\n",
    "    \"svg.fonttype\": 'none'\n",
    "    }\n",
    "mpl.rcParams.update(new_rc_params)"
   ]
  },
  {
   "cell_type": "code",
   "execution_count": 135,
   "id": "d94fd116-2e7d-476c-8811-5b4a26af6047",
   "metadata": {},
   "outputs": [
    {
     "name": "stdout",
     "output_type": "stream",
     "text": [
      "[(1976, 'ALABAMA', 659170, 1182850, 'DEMOCRAT')\n",
      " (1976, 'ALABAMA', 504070, 1182850, 'REPUBLICAN')\n",
      " (1976, 'ALABAMA',   9198, 1182850, 'OTHER') ...\n",
      " (2020, 'WYOMING',   1739,  278503, 'OTHER')\n",
      " (2020, 'WYOMING',    279,  278503, 'OTHER')\n",
      " (2020, 'WYOMING',   1459,  278503, 'OTHER')]\n"
     ]
    }
   ],
   "source": [
    "#Voting history from all 51 'states' since 1976\n",
    "votinghistory_full = np.loadtxt('1976-2020-president.csv', delimiter=',', skiprows=1, usecols=(0, 1, 10, 11, 14), \n",
    "                                dtype=[('year', int), ('state', 'U25'), ('votes', int), ('total_votes', int), \n",
    "                                       ('party', 'U20')])\n",
    "print(votinghistory_full)"
   ]
  },
  {
   "cell_type": "code",
   "execution_count": 136,
   "id": "69fe0a21-1ba7-407c-894f-445c117ec1bf",
   "metadata": {},
   "outputs": [],
   "source": [
    "#Voting results from only Democratic and Republican candidates\n",
    "index_dem = votinghistory_full['party'] == 'DEMOCRAT'\n",
    "index_rep = votinghistory_full['party'] == 'REPUBLICAN'\n",
    "votinghistory_dem = votinghistory_full[index_dem] # democrat results only\n",
    "votinghistory_rep = votinghistory_full[index_rep] # republican results only\n",
    "votinghistory = np.concatenate([votinghistory_dem, votinghistory_rep]) # combined results"
   ]
  },
  {
   "cell_type": "code",
   "execution_count": 137,
   "id": "27cf0c4e-1c37-4791-8ec5-c7280dd86809",
   "metadata": {},
   "outputs": [],
   "source": [
    "#Array of states in alphabetical order\n",
    "states = np.unique(votinghistory['state'])"
   ]
  },
  {
   "cell_type": "code",
   "execution_count": 138,
   "id": "0769ee67-4ed6-47db-9767-2aa999b8dbc5",
   "metadata": {},
   "outputs": [],
   "source": [
    "# Now, considering all races between 1976 and 2016, we calculate the mean voteshare and variance for each state,\n",
    "# for each party, along with the full covariance matrix\n",
    "\n",
    "# This data forms the mean vector and covariance matrix for our multivariate normal prior\n",
    "\n",
    "#Democrats\n",
    "index_dem_2016 = votinghistory_dem['year'] != 2020\n",
    "years = np.unique(votinghistory_dem[index_dem_2016]['year'])\n",
    "votinghistory_dem_2016 = votinghistory_dem[index_dem_2016]\n",
    "voteshare_dem = []\n",
    "\n",
    "# Generates array of percentage of total votes received by democrat and republican candidates for each state\n",
    "# in each election\n",
    "for i in range(len(states)):\n",
    "    state = states[i]\n",
    "    index = votinghistory_dem_2016['state'] == str(state)\n",
    "    array = votinghistory_dem_2016[index]\n",
    "    out = []\n",
    "    for j in range(len(years)):\n",
    "        voteshare = array[j][2] / array[j][3]\n",
    "        out.append(voteshare)\n",
    "    voteshare_dem.append(out)\n",
    "cov_dem = np.cov(voteshare_dem, bias = True, dtype=np.float64)\n",
    "var_dem = np.diag(cov_dem)\n",
    "mean_dem = np.mean(voteshare_dem, axis = 1)\n",
    "\n",
    "#Republicans\n",
    "index_rep_2016 = votinghistory_rep['year'] != 2020\n",
    "years = np.unique(votinghistory_rep[index_rep_2016]['year'])\n",
    "votinghistory_rep_2016 = votinghistory_rep[index_rep_2016]\n",
    "voteshare_rep = []\n",
    "for i in range(len(states)):\n",
    "    state = states[i]\n",
    "    index = votinghistory_rep_2016['state'] == str(state)\n",
    "    array = votinghistory_rep_2016[index]\n",
    "    out = []\n",
    "    for j in range(len(years)):\n",
    "        voteshare = array[j][2] / array[j][3]\n",
    "        out.append(voteshare)\n",
    "    voteshare_rep.append(out)\n",
    "cov_rep = np.cov(voteshare_rep, bias = True)\n",
    "var_rep = np.diag(voteshare_rep)\n",
    "mean_rep = np.mean(voteshare_rep, axis = 1)"
   ]
  },
  {
   "cell_type": "code",
   "execution_count": 139,
   "id": "2af263cf-ad2b-4e48-b878-6444dba22c78",
   "metadata": {},
   "outputs": [],
   "source": [
    "# Ingesting polling data from 2020 election\n",
    "polling_averages = np.loadtxt('presidential_general_averages.csv', delimiter=',', skiprows = 1, usecols = (0, 1, 2, 3), \n",
    "                              dtype=[('candidate', 'U20'), ('date', 'U10'), ('approval', float), ('state', 'U25')])\n",
    "\n",
    "index_biden = polling_averages['candidate'] == 'Joseph R. Biden Jr.'\n",
    "index_trump = polling_averages['candidate'] == 'Donald Trump'\n",
    "polls_biden = polling_averages[index_biden] # Biden's polling results\n",
    "polls_trump = polling_averages[index_trump] # Trump's polling results"
   ]
  },
  {
   "cell_type": "code",
   "execution_count": 140,
   "id": "97d2c097-a35c-4f7a-a32a-2f768c4a5054",
   "metadata": {},
   "outputs": [
    {
     "name": "stdout",
     "output_type": "stream",
     "text": [
      "51\n"
     ]
    }
   ],
   "source": [
    "# Organizing polling data by state to establish covariance matrix for multivariate normal likelihood\n",
    "\n",
    "states_lowercase = np.unique(polling_averages['state'])\n",
    "polling_dates = np.unique(polling_averages['date']) # allows us to sort out missing polling data for each state\n",
    "\n",
    "# Joe Biden\n",
    "polls_biden_bystate = []\n",
    "polls_biden_national = []\n",
    "for i in range(len(states_lowercase)):\n",
    "    state = states_lowercase[i]\n",
    "    index = polls_biden['state'] == str(state)\n",
    "    array = polls_biden[index]\n",
    "    mean = np.mean(array['approval'])\n",
    "    stdv = np.std(array['approval'])\n",
    "    # Dataset includes additional data for districts in Maine and Nebraska which are ignored\n",
    "    # in this model\n",
    "    if state == 'ME-1':\n",
    "        continue\n",
    "    if state == 'ME-2':\n",
    "        continue\n",
    "    if state == 'NE-2':\n",
    "        continue\n",
    "    if state == 'National':\n",
    "        polls_biden_national.append(array)\n",
    "    # Process for simulating missing polling data - as described in Assumptions section of paper\n",
    "    else:\n",
    "        out = []\n",
    "        for j in range(len(polling_dates)):\n",
    "            date = polling_dates[j]\n",
    "            datapoint = array[array['date'] == str(date)]\n",
    "            if not datapoint.tolist():\n",
    "                new_datapoint = np.random.normal(mean, stdv) * 0.01\n",
    "                out.append(new_datapoint)\n",
    "            else:\n",
    "                out.append(datapoint['approval'][0] * 0.01)\n",
    "        polls_biden_bystate.append(out)\n",
    "polls_biden_cov = np.cov(polls_biden_bystate, bias = True)\n",
    "\n",
    "# Donald Trump\n",
    "polls_trump_bystate = []\n",
    "polls_trump_national = []\n",
    "for i in range(len(states_lowercase)):\n",
    "    state = states_lowercase[i]\n",
    "    index = polls_trump['state'] == str(state)\n",
    "    array = polls_trump[index]\n",
    "    mean = np.mean(array['approval'])\n",
    "    stdv = np.std(array['approval'])\n",
    "    if state == 'ME-1':\n",
    "        continue\n",
    "    if state == 'ME-2':\n",
    "        continue\n",
    "    if state == 'NE-2':\n",
    "        continue\n",
    "    if state == 'National':\n",
    "        polls_trump_national.append(array)\n",
    "    else:\n",
    "        out = []\n",
    "        for j in range(len(polling_dates)):\n",
    "            date = polling_dates[j]\n",
    "            datapoint = array[array['date'] == str(date)]\n",
    "            if not datapoint.tolist():\n",
    "                new_datapoint = np.random.normal(mean, stdv) * 0.01\n",
    "                out.append(new_datapoint)\n",
    "            else:\n",
    "                out.append(datapoint['approval'][0] * 0.01)\n",
    "        polls_trump_bystate.append(out)\n",
    "polls_trump_cov = np.cov(polls_trump_bystate, bias = True)\n",
    "print(len(polls_trump_cov))"
   ]
  },
  {
   "cell_type": "code",
   "execution_count": 237,
   "id": "678d0f38-f86c-4be6-8956-99ac12d56977",
   "metadata": {},
   "outputs": [
    {
     "data": {
      "image/png": "[encoded data removed]",
      "text/plain": [
       "<Figure size 460.8x230.4 with 3 Axes>"
      ]
     },
     "metadata": {
      "needs_background": "light"
     },
     "output_type": "display_data"
    }
   ],
   "source": [
    "#Marginalized, un-normalized Gaussian likelihood, prior, and posterior distributions for Biden in California \n",
    "\n",
    "state = 'California'\n",
    "index = polls_biden['state'] == str(state)\n",
    "array = polls_biden[index]\n",
    "mean = np.mean(array['approval'])\n",
    "stdv = np.std(array['approval'])\n",
    "\n",
    "x = np.linspace(0, 1, 1000)\n",
    "factor = 10\n",
    "like_calif_biden = norm.pdf(x, mean * 0.01, stdv * 0.01)\n",
    "pri_calif_biden = norm.pdf(x, mean_dem[4], np.diag(cov_dem)[4])\n",
    "pri_calif_biden_wide = norm.pdf(x, mean_dem[4], np.diag(cov_dem)[4] * factor)\n",
    "post_calif_biden = like_calif_biden * pri_calif_biden\n",
    "post_calif_biden_wide = like_calif_biden * pri_calif_biden_wide\n",
    "\n",
    "fig, ax = plt.subplots(nrows=1, ncols=2, figsize=(6.4, 4.8 / 1.5))\n",
    "\n",
    "ax2 = ax[0].twinx()\n",
    "\n",
    "ax[0].plot(x, like_calif_biden, label='Likelihood')\n",
    "ax[0].plot(x, pri_calif_biden, label='Unscaled Prior')\n",
    "ax2.plot(x, post_calif_biden, label='Unscaled Posterior', color='g')\n",
    "ax2.set_ylim(0, 10 * 10**-20)\n",
    "ax2.tick_params(axis='y', labelcolor='g')\n",
    "ax2.yaxis.set_major_formatter(mtick.FormatStrFormatter('%.2e'))\n",
    "ax2.set_yticks(ticks = np.linspace(0, 10*10**-20, 0), fontsize=2)\n",
    "\n",
    "ax[1].plot(x, like_calif_biden, label='Likelihood')\n",
    "ax[1].plot(x, pri_calif_biden_wide, label='Covariance Scaled Prior')\n",
    "ax[1].plot(x, post_calif_biden_wide, label='Covariance Scaled Posterior', color='g')\n",
    "ax[1].set_ylim(0)\n",
    "ax[0].set_ylim(0)\n",
    "\n",
    "ax[0].set_xlim(0.3, 0.7)\n",
    "ax[1].set_xlim(0.3, 0.7)\n",
    "ax[0].set_title('Unscaled Covariance', fontsize=10)\n",
    "ax[1].set_title('10x Covariance', fontsize=10)\n",
    "ax[0].legend(loc='upper left', prop={'size': 5})\n",
    "ax[1].legend(loc='upper left', prop={'size': 5})\n",
    "ax2.legend(loc=(0.015, 0.74), prop={'size': 5})\n",
    "\n",
    "fig.suptitle('Un-Normalized, Marginalized Bayesian Inference: California', fontsize=10)\n",
    "fig.supxlabel('Voteshare', fontsize = 10)\n",
    "fig.supylabel('Un-Normalized Prbability Density', fontsize = 10)\n",
    "fig.tight_layout()\n",
    "fig.savefig('Plots/marginalized_inference.png')\n",
    "plt.show()"
   ]
  },
  {
   "cell_type": "code",
   "execution_count": 27,
   "id": "4a0e589d-30c6-42c5-9b1b-d9782198a336",
   "metadata": {},
   "outputs": [],
   "source": []
  },
  {
   "cell_type": "code",
   "execution_count": 27,
   "id": "2d9d97c3-1831-4b40-a50d-7a417b599110",
   "metadata": {},
   "outputs": [],
   "source": [
    "# Implementing MCMC\n",
    "# First simulation done using computationally inefficient posterior (taking log after of post, rather than\n",
    "# for likelihood and prior seperately). This is corrected for second simulation.\n",
    "\n",
    "# Prior\n",
    "def prior(mu, mu_0, sigma_0):\n",
    "    return multivariate_normal.pdf(mu, mu_0, sigma_0, allow_singular = True)\n",
    "\n",
    "# Likelihood\n",
    "def likelihood(mu, polls, sigma):\n",
    "    polls_l = np.asarray(polls).T\n",
    "    index = len(polls_l)\n",
    "    probs = []\n",
    "    for i in range(index):\n",
    "        prob = multivariate_normal.pdf(polls_l[i], mu, sigma, allow_singular = True)\n",
    "        probs.append(prob)\n",
    "    return np.prod(np.asarray(probs))\n",
    "\n",
    "# Log Posterior\n",
    "def log_post(mu, polls, sigma, mu_0, sigma_0):\n",
    "    like = likelihood(mu, polls, sigma)\n",
    "    pri = prior(mu, mu_0, sigma_0)\n",
    "    post = like * pri\n",
    "    if post > 0.:\n",
    "        return np.log(post)\n",
    "    else: return -np.inf"
   ]
  },
  {
   "cell_type": "code",
   "execution_count": 11,
   "id": "00323dd1-e933-4536-aa14-10db398fda04",
   "metadata": {},
   "outputs": [
    {
     "name": "stdout",
     "output_type": "stream",
     "text": [
      "[[0.42520474 0.33287527 0.4128676  ... 0.44566045 0.47967173 0.30965349]\n",
      " [0.40870692 0.3443046  0.38407937 ... 0.46230026 0.48031373 0.31797789]\n",
      " [0.40896387 0.34439444 0.38378544 ... 0.45965944 0.48524805 0.29129935]\n",
      " ...\n",
      " [0.41078394 0.34186258 0.3992775  ... 0.44095992 0.49024675 0.3106862 ]\n",
      " [0.40400803 0.3463881  0.38893767 ... 0.45561336 0.4779559  0.31294965]\n",
      " [0.40860425 0.33135624 0.39597478 ... 0.48194661 0.48409191 0.29953037]]\n"
     ]
    },
    {
     "name": "stderr",
     "output_type": "stream",
     "text": [
      "100%|██████████| 5000/5000 [13:35:54<00:00,  9.79s/it]  \n"
     ]
    }
   ],
   "source": [
    "# First Democrat MCMC simulation\n",
    "num_iter = 5000\n",
    "ndim = 51\n",
    "nwalkers = ndim * 2\n",
    "# initial_pos taken to be mean vector from prior for both dems and reps\n",
    "initial_pos = np.array(mean_dem) + 0.01 * np.random.randn(nwalkers, ndim)\n",
    "print(initial_pos)\n",
    "first_sampler_dem = emcee.EnsembleSampler(nwalkers, ndim, log_post, \n",
    "                                args=[polls_biden_bystate, polls_biden_cov, mean_dem, cov_dem])\n",
    "first_sampler_dem.run_mcmc(initial_pos, num_iter, progress=True, skip_initial_state_check = True);"
   ]
  },
  {
   "cell_type": "code",
   "execution_count": 12,
   "id": "19f0b131-57db-414c-ad62-3a4e29e9f05e",
   "metadata": {},
   "outputs": [],
   "source": [
    "first_chain_dem = sampler.get_chain(discard=100, flat=True)\n",
    "first_sim_dem = np.savetxt('first_sim_dem.csv', fist_chain_dem, delimiter=',')"
   ]
  },
  {
   "cell_type": "code",
   "execution_count": 19,
   "id": "83ac7e9b-73a1-4c1b-8533-0d6fc0175a74",
   "metadata": {},
   "outputs": [],
   "source": [
    "# First Republican MCMC simulation\n",
    "num_iter = 6000\n",
    "ndim = 51\n",
    "nwalkers = ndim * 2\n",
    "initial_pos = np.array(mean_rep) + 0.01 * np.random.randn(nwalkers, ndim)\n",
    "print(initial_pos)\n",
    "first_sampler_rep = emcee.EnsembleSampler(nwalkers, ndim, log_post, \n",
    "                                args=[polls_trump_bystate, polls_trump_cov, mean_rep, cov_rep])\n",
    "first_sampler_rep.run_mcmc(initial_pos, num_iter, progress=True, skip_initial_state_check = True);"
   ]
  },
  {
   "cell_type": "code",
   "execution_count": 19,
   "id": "65068b5a-a1b8-4078-b1ce-0e2729e7f145",
   "metadata": {},
   "outputs": [
    {
     "name": "stdout",
     "output_type": "stream",
     "text": [
      "[[0.55523962 0.55695769 0.55068922 ... 0.50044312 0.44916211 0.61009249]\n",
      " [0.54879973 0.56505465 0.52262305 ... 0.50855211 0.4626784  0.62828517]\n",
      " [0.56191024 0.57802386 0.53386116 ... 0.49811526 0.46765806 0.61395844]\n",
      " ...\n",
      " [0.57009039 0.55590725 0.53823916 ... 0.49990054 0.47296965 0.61482714]\n",
      " [0.5718474  0.57211746 0.53854467 ... 0.50749413 0.44618822 0.6074123 ]\n",
      " [0.53561973 0.55344881 0.53014507 ... 0.48185114 0.44448659 0.60614581]]\n"
     ]
    },
    {
     "name": "stderr",
     "output_type": "stream",
     "text": [
      "100%|██████████| 6000/6000 [16:23:13<00:00,  9.83s/it]  \n"
     ]
    }
   ],
   "source": [
    "first_chain_rep = first_sampler_rep.get_chain(discard=100, flat=True)\n",
    "first_sim_rep = np.savetxt('first_sim_rep.csv', first_chain_rep, delimiter=',')"
   ]
  },
  {
   "cell_type": "code",
   "execution_count": 67,
   "id": "4e1c1e58-47ba-4f92-9983-dedc191948a7",
   "metadata": {},
   "outputs": [],
   "source": [
    "# We Assume the parameters are normally distributed and calculate the mean for each state\n",
    "\n",
    "post_means_dem = np.mean(chain.T, axis = 1)\n",
    "post_means_rep = np.mean(chain_rep.T, axis = 1)"
   ]
  },
  {
   "cell_type": "code",
   "execution_count": 86,
   "id": "dff20e37-3a06-4073-8971-dc52a0c70c14",
   "metadata": {},
   "outputs": [
    {
     "name": "stdout",
     "output_type": "stream",
     "text": [
      "[0.41290006 0.33749179 0.40400363 0.45489959 0.50828523 0.43689451\n",
      " 0.49934962 0.50635809 0.85624576 0.45132726 0.46446453 0.55564273\n",
      " 0.30997008 0.51770848 0.40990665 0.47777202 0.3724179  0.42501231\n",
      " 0.4391345  0.47700307 0.54115442 0.55487454 0.48433898 0.50094545\n",
      " 0.42429348 0.45472413 0.39790968 0.34289886 0.43224773 0.43399596\n",
      " 0.49415709 0.47264786 0.52687932 0.45425312 0.36431379 0.45699774\n",
      " 0.36166581 0.48276109 0.48844017 0.55694523 0.43315848 0.39680171\n",
      " 0.44120895 0.41502303 0.2788869  0.51413735 0.4498181  0.48844773\n",
      " 0.45190282 0.48365349 0.31263663]\n",
      "[3.65110372e-05 4.59670361e-05 8.34598061e-05 8.02109770e-04\n",
      " 6.06486014e-05 8.11046928e-04 4.05315464e-04 1.55826821e-04\n",
      " 1.79899329e-04 8.00495725e-05 8.08491192e-05 8.90743475e-04\n",
      " 1.90617786e-04 1.23535315e-04 7.32630638e-05 1.19508741e-04\n",
      " 7.93706418e-05 3.01458066e-05 1.10262618e-04 1.14902062e-04\n",
      " 9.21872676e-05 2.73233096e-04 1.48324006e-04 2.65743421e-04\n",
      " 4.70783974e-05 9.25087465e-05 1.59294275e-03 9.19911687e-05\n",
      " 1.44971932e-04 3.59452798e-04 1.40446590e-04 4.32221775e-05\n",
      " 3.63657580e-04 6.38777530e-05 6.12632484e-05 8.69127447e-05\n",
      " 7.80961473e-05 7.71396210e-04 1.50313949e-04 3.63264853e-04\n",
      " 1.05457465e-04 1.09437633e-04 9.73770663e-05 5.52581705e-05\n",
      " 4.04249221e-04 1.20445358e-03 2.47327611e-04 1.95314724e-04\n",
      " 2.74483593e-04 3.00282258e-04 5.69007683e-05]\n"
     ]
    },
    {
     "data": {
      "text/plain": [
       "(None, None)"
      ]
     },
     "execution_count": 86,
     "metadata": {},
     "output_type": "execute_result"
    }
   ],
   "source": [
    "print(post_means_dem), print(np.diag(polls_biden_cov))"
   ]
  },
  {
   "cell_type": "code",
   "execution_count": 28,
   "id": "abc6bcd4-4c5d-49f4-91d6-a0fbeeab4bb4",
   "metadata": {},
   "outputs": [],
   "source": [
    "import montecarlo\n",
    "%load_ext autoreload\n",
    "%autoreload 2"
   ]
  },
  {
   "cell_type": "code",
   "execution_count": 147,
   "id": "ce7d6bda-3674-4f59-b7ec-e0faa8a55075",
   "metadata": {},
   "outputs": [],
   "source": [
    "first_post_dem = np.loadtxt('first_sim_dem.csv', delimiter = ',')\n",
    "first_post_rep = np.loadtxt('first_sim_rep.csv', delimiter=',')\n",
    "first_dem_param_mean = np.mean(first_post_dem, axis = 0)\n",
    "first_rep_param_mean = np.mean(first_post_rep, axis = 0)"
   ]
  },
  {
   "cell_type": "code",
   "execution_count": 40,
   "id": "c39cab09-09c8-4bbd-8dc6-20c0dae0a956",
   "metadata": {},
   "outputs": [
    {
     "name": "stdout",
     "output_type": "stream",
     "text": [
      "51\n",
      "[0.41290006 0.33749179 0.40400363 0.45489959 0.50828523 0.43689451\n",
      " 0.49934962 0.50635809 0.85624576 0.45132726 0.46446453 0.55564273\n",
      " 0.30997008 0.51770848 0.40990665 0.47777202 0.3724179  0.42501231\n",
      " 0.4391345  0.47700307 0.54115442 0.55487454 0.48433898 0.50094545\n",
      " 0.42429348 0.45472413 0.39790968 0.34289886 0.43224773 0.43399596\n",
      " 0.49415709 0.47264786 0.52687932 0.45425312 0.36431379 0.45699774\n",
      " 0.36166581 0.48276109 0.48844017 0.55694523 0.43315848 0.39680171\n",
      " 0.44120895 0.41502303 0.2788869  0.51413735 0.4498181  0.48844773\n",
      " 0.45190282 0.48365349 0.31263663]\n"
     ]
    }
   ],
   "source": [
    "print(len(dem_mean))\n",
    "print(dem_mean)"
   ]
  },
  {
   "cell_type": "code",
   "execution_count": 66,
   "id": "4cc15fb6-c5da-4ddd-93ef-678f50eff200",
   "metadata": {},
   "outputs": [
    {
     "data": {
      "application/vnd.jupyter.widget-view+json": {
       "model_id": "3e6f1afef26146baa4b9ac71bb8315c9",
       "version_major": 2,
       "version_minor": 0
      },
      "text/plain": [
       "  0%|          | 0/100000 [00:00<?, ?it/s]"
      ]
     },
     "metadata": {},
     "output_type": "display_data"
    }
   ],
   "source": [
    "runs = 100000\n",
    "montecarlo_dem = montecarlo.montecarlo(runs, dem_mean, polls_biden_cov)"
   ]
  },
  {
   "cell_type": "code",
   "execution_count": 67,
   "id": "ba0fdc19-d543-42ef-9ae0-ae1c75421028",
   "metadata": {},
   "outputs": [
    {
     "data": {
      "text/plain": [
       "Text(0.5, 1.0, 'Dem Electoral College Outcome')"
      ]
     },
     "execution_count": 67,
     "metadata": {},
     "output_type": "execute_result"
    },
    {
     "data": {
      "image/png": "[encoded data removed]",
      "text/plain": [
       "<Figure size 432x288 with 1 Axes>"
      ]
     },
     "metadata": {
      "needs_background": "light"
     },
     "output_type": "display_data"
    }
   ],
   "source": [
    "bins = np.linspace(0, 538, 539)\n",
    "\n",
    "mu, sigma = norm.fit(montecarlo_dem[0])\n",
    "best_fit_line = norm.pdf(bins, mu, sigma)\n",
    "plt.plot(bins, best_fit_line)\n",
    "\n",
    "plt.hist(montecarlo_dem[0], bins, density = True)\n",
    "plt.xlabel('Electoral College Votes')\n",
    "plt.ylabel('Probability Density')\n",
    "plt.title('Dem Electoral College Outcome')"
   ]
  },
  {
   "cell_type": "code",
   "execution_count": 72,
   "id": "c270d7e8-918d-419d-a34f-18a588ffd419",
   "metadata": {},
   "outputs": [
    {
     "data": {
      "text/plain": [
       "(0.42, 0.515)"
      ]
     },
     "execution_count": 72,
     "metadata": {},
     "output_type": "execute_result"
    },
    {
     "data": {
      "image/png": "[encoded data removed]",
      "text/plain": [
       "<Figure size 432x288 with 1 Axes>"
      ]
     },
     "metadata": {
      "needs_background": "light"
     },
     "output_type": "display_data"
    }
   ],
   "source": [
    "bins = np.linspace(0, 1, 1001)\n",
    "\n",
    "mu, sigma = norm.fit(montecarlo_dem[4])\n",
    "best_fit_line = norm.pdf(bins, mu, sigma)\n",
    "plt.plot(bins, best_fit_line)\n",
    "\n",
    "plt.hist(montecarlo_dem[4], bins, density = True)\n",
    "plt.xlabel('Popular Votes')\n",
    "plt.ylabel('Probability Density')\n",
    "plt.title('Dem Popular Outcome')\n",
    "plt.xlim(0.42, 0.515)"
   ]
  },
  {
   "cell_type": "markdown",
   "id": "9da581c7-9309-44f6-a776-04fcbaf9e055",
   "metadata": {},
   "source": [
    "## Second Simulation with Historical Covariance"
   ]
  },
  {
   "cell_type": "code",
   "execution_count": 141,
   "id": "aad1d0f7-09bd-4c19-91c8-af1f584b8d89",
   "metadata": {},
   "outputs": [],
   "source": [
    "## Revised MCMC\n",
    "\n",
    "# Prior\n",
    "def prior(mu, mu_0, sigma_0):\n",
    "    return multivariate_normal.logpdf(mu, mu_0, sigma_0, allow_singular = True)\n",
    "\n",
    "# Likelihood\n",
    "def likelihood(mu, polls, sigma):\n",
    "    polls_l = np.asarray(polls).T\n",
    "    index = len(polls_l)\n",
    "    probs = []\n",
    "    for i in range(index):\n",
    "        prob = multivariate_normal.logpdf(polls_l[i], mu, sigma, allow_singular = True)\n",
    "        probs.append(prob)\n",
    "    return np.sum(np.asarray(probs))\n",
    "\n",
    "# Posterior\n",
    "def log_post(mu, polls, sigma, mu_0, sigma_0):\n",
    "    like = likelihood(mu, polls, sigma)\n",
    "    pri = prior(mu, mu_0, sigma_0)\n",
    "    if (not np.isfinite(like))|(not np.isfinite(pri)):\n",
    "        return -np.inf\n",
    "    return like + pri"
   ]
  },
  {
   "cell_type": "code",
   "execution_count": 145,
   "id": "2c1e9a5f-99d7-428a-b65a-853a0dff062e",
   "metadata": {},
   "outputs": [
    {
     "name": "stdout",
     "output_type": "stream",
     "text": [
      "[[0.4392366  0.34625572 0.40427911 ... 0.46027601 0.47181594 0.30722966]\n",
      " [0.40999391 0.33388349 0.40032938 ... 0.4374095  0.48171183 0.30601215]\n",
      " [0.41622878 0.32582881 0.40253035 ... 0.46829844 0.48763888 0.31088104]\n",
      " ...\n",
      " [0.40503944 0.34635385 0.39262863 ... 0.45658329 0.47764664 0.30792977]\n",
      " [0.42560528 0.33805669 0.39724931 ... 0.44196414 0.48528171 0.3158685 ]\n",
      " [0.42857886 0.32931733 0.39899543 ... 0.43984558 0.51209225 0.31903209]]\n"
     ]
    },
    {
     "name": "stderr",
     "output_type": "stream",
     "text": [
      "100%|██████████| 9000/9000 [25:04:17<00:00, 10.03s/it]      \n"
     ]
    }
   ],
   "source": [
    "revised_cov_dem = cov_dem * 10\n",
    "\n",
    "# MCMC\n",
    "num_iter = 9000\n",
    "ndim = 51\n",
    "nwalkers = ndim * 2\n",
    "initial_pos = np.array(mean_dem) + 0.01 * np.random.randn(nwalkers, ndim)\n",
    "print(initial_pos)\n",
    "second_chain_dem = emcee.EnsembleSampler(nwalkers, ndim, log_post, \n",
    "                                args=[polls_biden_bystate, polls_biden_cov, mean_dem, revised_cov_dem])\n",
    "second_chain_dem.run_mcmc(initial_pos, num_iter, progress=True, skip_initial_state_check = True);\n",
    "\n",
    "second_sim_dem = second_chain_dem.get_chain(discard=100, flat=True)\n",
    "second_sim = np.savetxt('second_sim_dem.csv', second_sim_dem, delimiter=',')"
   ]
  },
  {
   "cell_type": "code",
   "execution_count": null,
   "id": "e26ed4b1-1881-4baa-8bd1-af9bd7d49679",
   "metadata": {},
   "outputs": [],
   "source": []
  }
 ],
 "metadata": {
  "kernelspec": {
   "display_name": "Python 3 (ipykernel)",
   "language": "python",
   "name": "python3"
  },
  "language_info": {
   "codemirror_mode": {
    "name": "ipython",
    "version": 3
   },
   "file_extension": ".py",
   "mimetype": "text/x-python",
   "name": "python",
   "nbconvert_exporter": "python",
   "pygments_lexer": "ipython3",
   "version": "3.9.7"
  }
 },
 "nbformat": 4,
 "nbformat_minor": 5
}
