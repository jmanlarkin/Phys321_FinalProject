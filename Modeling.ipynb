{
 "cells": [
  {
   "cell_type": "code",
   "execution_count": 141,
   "id": "7ad4d199-7c38-493e-b31a-4365916569bf",
   "metadata": {},
   "outputs": [],
   "source": [
    "import numpy as np\n",
    "import matplotlib.pyplot as plt\n",
    "import pandas as pd\n",
    "import emcee\n",
    "from scipy.optimize import curve_fit\n",
    "from scipy.stats.distributions import chi2\n",
    "from scipy.stats import multivariate_normal\n",
    "from os import listdir\n",
    "import matplotlib as mpl\n",
    "%matplotlib inline\n",
    "\n",
    "new_rc_params = {'text.usetex': False,\n",
    "    \"svg.fonttype\": 'none'\n",
    "    }\n",
    "mpl.rcParams.update(new_rc_params)"
   ]
  },
  {
   "cell_type": "code",
   "execution_count": 2,
   "id": "d94fd116-2e7d-476c-8811-5b4a26af6047",
   "metadata": {},
   "outputs": [
    {
     "name": "stdout",
     "output_type": "stream",
     "text": [
      "[(1976, 'ALABAMA', 659170, 1182850, 'DEMOCRAT')\n",
      " (1976, 'ALABAMA', 504070, 1182850, 'REPUBLICAN')\n",
      " (1976, 'ALABAMA',   9198, 1182850, 'OTHER') ...\n",
      " (2020, 'WYOMING',   1739,  278503, 'OTHER')\n",
      " (2020, 'WYOMING',    279,  278503, 'OTHER')\n",
      " (2020, 'WYOMING',   1459,  278503, 'OTHER')]\n"
     ]
    }
   ],
   "source": [
    "#Voting history from all 51 'states' since 1976\n",
    "votinghistory_full = np.loadtxt('1976-2020-president.csv', delimiter=',', skiprows=1, usecols=(0, 1, 10, 11, 14), \n",
    "                        dtype=[('year', int), ('state', 'U25'), ('votes', int), ('total_votes', int), ('party', 'U20')])\n",
    "print(votinghistory_full)"
   ]
  },
  {
   "cell_type": "code",
   "execution_count": 3,
   "id": "69fe0a21-1ba7-407c-894f-445c117ec1bf",
   "metadata": {},
   "outputs": [],
   "source": [
    "#Voting results from only Democratic and Republican candidates\n",
    "index_dem = votinghistory_full['party'] == 'DEMOCRAT'\n",
    "index_rep = votinghistory_full['party'] == 'REPUBLICAN'\n",
    "votinghistory_dem = votinghistory_full[index_dem] # democrat results only\n",
    "votinghistory_rep = votinghistory_full[index_rep] # republican results only\n",
    "votinghistory = np.concatenate([votinghistory_dem, votinghistory_rep]) # combined results"
   ]
  },
  {
   "cell_type": "code",
   "execution_count": 4,
   "id": "27cf0c4e-1c37-4791-8ec5-c7280dd86809",
   "metadata": {},
   "outputs": [],
   "source": [
    "#Array of states in alphabetical order\n",
    "states = np.unique(votinghistory['state'])"
   ]
  },
  {
   "cell_type": "code",
   "execution_count": 119,
   "id": "0769ee67-4ed6-47db-9767-2aa999b8dbc5",
   "metadata": {},
   "outputs": [],
   "source": [
    "# Now, considering all races between 1976 and 2016, we calculate the mean voteshare and variance for each state,\n",
    "# for each party, along with the full covariance matrix\n",
    "\n",
    "#Democrats\n",
    "index_dem_2016 = votinghistory_dem['year'] != 2020\n",
    "years = np.unique(votinghistory_dem[index_dem_2016]['year'])\n",
    "votinghistory_dem_2016 = votinghistory_dem[index_dem_2016]\n",
    "voteshare_dem = []\n",
    "for i in range(len(states)):\n",
    "    state = states[i]\n",
    "    index = votinghistory_dem_2016['state'] == str(state)\n",
    "    array = votinghistory_dem_2016[index]\n",
    "    out = []\n",
    "    for j in range(len(years)):\n",
    "        voteshare = array[j][2] / array[j][3]\n",
    "        out.append(voteshare)\n",
    "    voteshare_dem.append(out)\n",
    "cov_dem = np.cov(voteshare_dem, bias = True, dtype=np.float64)\n",
    "var_dem = np.diag(cov_dem)\n",
    "mean_dem = np.mean(voteshare_dem, axis = 1)\n",
    "\n",
    "#Republicans\n",
    "index_rep_2016 = votinghistory_rep['year'] != 2020\n",
    "years = np.unique(votinghistory_rep[index_rep_2016]['year'])\n",
    "votinghistory_rep_2016 = votinghistory_rep[index_rep_2016]\n",
    "voteshare_rep = []\n",
    "for i in range(len(states)):\n",
    "    state = states[i]\n",
    "    index = votinghistory_rep_2016['state'] == str(state)\n",
    "    array = votinghistory_rep_2016[index]\n",
    "    out = []\n",
    "    for j in range(len(years)):\n",
    "        voteshare = array[j][2] / array[j][3]\n",
    "        out.append(voteshare)\n",
    "    voteshare_rep.append(out)\n",
    "cov_rep = np.cov(voteshare_rep, bias = True)\n",
    "var_rep = np.diag(voteshare_rep)\n",
    "mean_rep = np.mean(voteshare_rep, axis = 1)"
   ]
  },
  {
   "cell_type": "code",
   "execution_count": 6,
   "id": "2af263cf-ad2b-4e48-b878-6444dba22c78",
   "metadata": {},
   "outputs": [],
   "source": [
    "# Ingesting polling data from 2020 election\n",
    "polling_averages = np.loadtxt('presidential_general_averages.csv', delimiter=',', skiprows = 1, usecols = (0, 1, 2, 3), \n",
    "                              dtype=[('candidate', 'U20'), ('date', 'U10'), ('approval', float), ('state', 'U25')])\n",
    "\n",
    "index_biden = polling_averages['candidate'] == 'Joseph R. Biden Jr.'\n",
    "index_trump = polling_averages['candidate'] == 'Donald Trump'\n",
    "polls_biden = polling_averages[index_biden]\n",
    "polls_trump = polling_averages[index_trump]"
   ]
  },
  {
   "cell_type": "code",
   "execution_count": 139,
   "id": "63d8b7f8-993e-47a2-b2ae-3dd93a777e96",
   "metadata": {},
   "outputs": [
    {
     "name": "stdout",
     "output_type": "stream",
     "text": [
      "251\n",
      "[0.5923509  0.50534504 0.4820326  0.44748328 0.3435703  0.4408042\n",
      " 0.3474097  0.4051353  0.10199435 0.4760153  0.4825122  0.30697724\n",
      " 0.57478079 0.38912986 0.51730346 0.4897333  0.5228951  0.55866137\n",
      " 0.51650424 0.40271137 0.3480251  0.30728282 0.4443297  0.42906497\n",
      " 0.5722068  0.5091909  0.5609013  0.52590837 0.4201992  0.460477\n",
      " 0.3593914  0.474118   0.37106    0.4631087  0.5697821  0.4642032\n",
      " 0.6310739  0.39088811 0.4537696  0.33134947 0.5103901  0.55734211\n",
      " 0.5618425  0.4921024  0.5099411  0.31105542 0.4300517  0.35773874\n",
      " 0.6652835  0.46467    0.63863837]\n"
     ]
    }
   ],
   "source": [
    "# Organizing polling data by state to establish covariance matrix for multivariate normal likelihood\n",
    "\n",
    "states_lowercase = np.unique(polling_averages['state'])\n",
    "polling_dates = np.unique(polling_averages['date'])\n",
    "\n",
    "# Joe Biden\n",
    "polls_biden_bystate = []\n",
    "polls_biden_national = []\n",
    "for i in range(len(states_lowercase)):\n",
    "    state = states_lowercase[i]\n",
    "    index = polls_biden['state'] == str(state)\n",
    "    array = polls_biden[index]\n",
    "    mean = np.mean(array['approval'])\n",
    "    stdv = np.std(array['approval'])\n",
    "    if state == 'ME-1':\n",
    "        continue\n",
    "    if state == 'ME-2':\n",
    "        continue\n",
    "    if state == 'NE-2':\n",
    "        continue\n",
    "    if state == 'National':\n",
    "        polls_biden_national.append(array)\n",
    "    else:\n",
    "        out = []\n",
    "        for j in range(len(polling_dates)):\n",
    "            date = polling_dates[j]\n",
    "            datapoint = array[array['date'] == str(date)]\n",
    "            if not datapoint.tolist():\n",
    "                new_datapoint = np.random.normal(mean, stdv) * 0.01\n",
    "                out.append(new_datapoint)\n",
    "            else:\n",
    "                out.append(datapoint['approval'][0] * 0.01)\n",
    "        polls_biden_bystate.append(out)\n",
    "polls_biden_cov = np.cov(polls_biden_bystate, bias = True)\n",
    "\n",
    "# Donald Trump\n",
    "polls_trump_bystate = []\n",
    "polls_trump_national = []\n",
    "for i in range(len(states_lowercase)):\n",
    "    state = states_lowercase[i]\n",
    "    index = polls_trump['state'] == str(state)\n",
    "    array = polls_trump[index]\n",
    "    mean = np.mean(array['approval'])\n",
    "    stdv = np.std(array['approval'])\n",
    "    if state == 'ME-1':\n",
    "        continue\n",
    "    if state == 'ME-2':\n",
    "        continue\n",
    "    if state == 'NE-2':\n",
    "        continue\n",
    "    if state == 'National':\n",
    "        polls_trump_national.append(array)\n",
    "    else:\n",
    "        out = []\n",
    "        for j in range(len(polling_dates)):\n",
    "            date = polling_dates[j]\n",
    "            datapoint = array[array['date'] == str(date)]\n",
    "            if not datapoint.tolist():\n",
    "                new_datapoint = np.random.normal(mean, stdv) * 0.01\n",
    "                out.append(new_datapoint)\n",
    "            else:\n",
    "                out.append(datapoint['approval'][0] * 0.01)\n",
    "        polls_trump_bystate.append(out)\n",
    "polls_trump_cov = np.cov(polls_trump_bystate, bias = True)\n",
    "\n",
    "print(len(np.asarray(polls_trump_bystate).T))\n",
    "print(np.asarray(polls_trump_bystate).T[3])"
   ]
  },
  {
   "cell_type": "code",
   "execution_count": 268,
   "id": "fecdb4c1-b883-43bc-a762-1446607b7ce2",
   "metadata": {},
   "outputs": [],
   "source": [
    "# Implementing MCMC\n",
    "# Prior\n",
    "def prior(mu, mu_0, sigma_0):\n",
    "    return multivariate_normal.pdf(mu, mu_0, sigma_0, allow_singular = True)\n",
    "\n",
    "# Likelihood\n",
    "def likelihood(mu, polls, sigma):\n",
    "    polls_l = np.asarray(polls).T\n",
    "    index = len(polls_l)\n",
    "    probs = []\n",
    "    for i in range(index):\n",
    "        prob = multivariate_normal.pdf(polls_l[i], mu, sigma, allow_singular = True)\n",
    "        probs.append(prob)\n",
    "    return np.prod(np.asarray(probs))\n",
    "\n",
    "# Posterior\n",
    "def log_post(mu, polls, sigma, mu_0, sigma_0):\n",
    "    like = likelihood(mu, polls, sigma)\n",
    "    pri = prior(mu, mu_0, sigma_0)\n",
    "    post = like * pri\n",
    "    if post > 0.:\n",
    "        return np.log(post)\n",
    "    else: return -np.inf"
   ]
  },
  {
   "cell_type": "code",
   "execution_count": null,
   "id": "00323dd1-e933-4536-aa14-10db398fda04",
   "metadata": {},
   "outputs": [
    {
     "name": "stdout",
     "output_type": "stream",
     "text": [
      "[[0.41794091 0.33435935 0.40611049 ... 0.45694596 0.49008815 0.32605162]\n",
      " [0.42512532 0.33305696 0.42865929 ... 0.43257731 0.50041751 0.32091332]\n",
      " [0.42180555 0.34215004 0.41044476 ... 0.45728547 0.49697927 0.31916513]\n",
      " ...\n",
      " [0.42645428 0.31913002 0.39984267 ... 0.45530687 0.487565   0.30514166]\n",
      " [0.41539882 0.3445717  0.40193231 ... 0.43530501 0.48260635 0.29910642]\n",
      " [0.41344264 0.34058636 0.41677021 ... 0.47588255 0.48672035 0.32046706]]\n"
     ]
    },
    {
     "name": "stderr",
     "output_type": "stream",
     "text": [
      "  0%|          | 1/5000 [00:09<13:22:37,  9.63s/it]"
     ]
    }
   ],
   "source": [
    "# MCMC\n",
    "num_iter = 5000\n",
    "ndim = 51\n",
    "nwalkers = ndim * 2\n",
    "initial_pos = np.array(mean_dem) + 0.01 * np.random.randn(nwalkers, ndim)\n",
    "print(initial_pos)\n",
    "sampler = emcee.EnsembleSampler(nwalkers, ndim, log_post, \n",
    "                                args=[polls_biden_bystate, polls_biden_cov, mean_dem, cov_dem])\n",
    "sampler.run_mcmc(initial_pos, num_iter, progress=True, skip_initial_state_check = True);"
   ]
  },
  {
   "cell_type": "code",
   "execution_count": null,
   "id": "f2e0148b-0ad9-43da-9519-2bcbc6437a11",
   "metadata": {},
   "outputs": [],
   "source": []
  }
 ],
 "metadata": {
  "kernelspec": {
   "display_name": "Python 3 (ipykernel)",
   "language": "python",
   "name": "python3"
  },
  "language_info": {
   "codemirror_mode": {
    "name": "ipython",
    "version": 3
   },
   "file_extension": ".py",
   "mimetype": "text/x-python",
   "name": "python",
   "nbconvert_exporter": "python",
   "pygments_lexer": "ipython3",
   "version": "3.9.7"
  }
 },
 "nbformat": 4,
 "nbformat_minor": 5
}
