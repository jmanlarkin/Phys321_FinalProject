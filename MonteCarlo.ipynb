{
 "cells": [
  {
   "cell_type": "code",
   "execution_count": 3,
   "id": "1c12e589-7d17-48e4-b4d2-5a3aed08e149",
   "metadata": {},
   "outputs": [],
   "source": [
    "import numpy as np\n",
    "import matplotlib.pyplot as plt\n",
    "import pandas as pd\n",
    "from scipy.optimize import curve_fit\n",
    "from scipy.stats.distributions import chi2\n",
    "from os import listdir\n",
    "import matplotlib as mpl\n",
    "%matplotlib inline\n",
    "\n",
    "new_rc_params = {'text.usetex': False,\n",
    "    \"svg.fonttype\": 'none'\n",
    "    }\n",
    "mpl.rcParams.update(new_rc_params)"
   ]
  },
  {
   "cell_type": "code",
   "execution_count": 6,
   "id": "3b806095-e341-4807-b509-1f29e2e0a2a0",
   "metadata": {},
   "outputs": [],
   "source": [
    "#Simulated Probability Distribution over States\n",
    "probs = np.linspace(0, 1., 1000)\n",
    "simulated_probs = np.random.choice(probs, size = len(election.States), replace = True)"
   ]
  },
  {
   "cell_type": "code",
   "execution_count": 4,
   "id": "379910d9-1e6f-4c9f-a308-6d5243d00d6a",
   "metadata": {},
   "outputs": [],
   "source": [
    "import election\n",
    "%load_ext autoreload\n",
    "%autoreload 2"
   ]
  },
  {
   "cell_type": "code",
   "execution_count": 8,
   "id": "de6a3afa-7d0d-4d4a-97ec-88acb8e00a22",
   "metadata": {
    "tags": []
   },
   "outputs": [
    {
     "data": {
      "application/vnd.jupyter.widget-view+json": {
       "model_id": "0c0c4038f75346fbbcd5c8446d4645be",
       "version_major": 2,
       "version_minor": 0
      },
      "text/plain": [
       "  0%|          | 0/100000 [00:00<?, ?it/s]"
      ]
     },
     "metadata": {},
     "output_type": "display_data"
    }
   ],
   "source": [
    "#Monte Carlo simulation\n",
    "runs = 100000\n",
    "test = election.montecarlo(runs, simulated_probs)"
   ]
  },
  {
   "cell_type": "code",
   "execution_count": 9,
   "id": "2a9d31dc-6bce-4ac0-9f15-b0dc0b34a149",
   "metadata": {},
   "outputs": [
    {
     "name": "stdout",
     "output_type": "stream",
     "text": [
      "52.834% Chance of Winning\n"
     ]
    },
    {
     "data": {
      "image/png": "[encoded data removed]",
      "text/plain": [
       "<Figure size 432x288 with 1 Axes>"
      ]
     },
     "metadata": {
      "needs_background": "light"
     },
     "output_type": "display_data"
    }
   ],
   "source": [
    "bins = np.linspace(0, 538, 539)\n",
    "plt.hist(test, bins, density = True)\n",
    "plt.xlabel('Electoral College Votes')\n",
    "plt.ylabel('Probability Density')\n",
    "\n",
    "victory = 0\n",
    "for i in range(len(test)):\n",
    "    if test[i] >= 270:\n",
    "        victory += 1\n",
    "victory /= len(test)\n",
    "print(str(victory * 100) + '% Chance of Winning')"
   ]
  },
  {
   "cell_type": "code",
   "execution_count": 10,
   "id": "214e77a2-86af-49e9-a8e1-2f2e697f52fd",
   "metadata": {},
   "outputs": [
    {
     "data": {
      "application/vnd.jupyter.widget-view+json": {
       "model_id": "89c8ea83f7134fd397d31ff9c9610dab",
       "version_major": 2,
       "version_minor": 0
      },
      "text/plain": [
       "  0%|          | 0/100000 [00:00<?, ?it/s]"
      ]
     },
     "metadata": {},
     "output_type": "display_data"
    }
   ],
   "source": [
    "test2 = election.montecarlo(runs, 1 - simulated_probs)"
   ]
  },
  {
   "cell_type": "code",
   "execution_count": 11,
   "id": "32219318-8dd2-498f-a4dc-ce5acc33c08f",
   "metadata": {},
   "outputs": [
    {
     "name": "stdout",
     "output_type": "stream",
     "text": [
      "46.342% Chance of Winning\n"
     ]
    },
    {
     "data": {
      "image/png": "[encoded data removed]",
      "text/plain": [
       "<Figure size 432x288 with 1 Axes>"
      ]
     },
     "metadata": {
      "needs_background": "light"
     },
     "output_type": "display_data"
    }
   ],
   "source": [
    "bins = np.linspace(0, 538, 539)\n",
    "plt.hist(test2, bins, density = True)\n",
    "plt.xlabel('Electoral College Votes')\n",
    "plt.ylabel('Probability Density')\n",
    "\n",
    "victory2 = 0\n",
    "for i in range(len(test2)):\n",
    "    if test2[i] >= 270:\n",
    "        victory2 += 1\n",
    "victory2 /= len(test2)\n",
    "print(str(victory2 * 100) + '% Chance of Winning')"
   ]
  },
  {
   "cell_type": "code",
   "execution_count": null,
   "id": "8c21148a-fbe3-46d4-a4f7-d81149dc0ead",
   "metadata": {},
   "outputs": [],
   "source": []
  }
 ],
 "metadata": {
  "kernelspec": {
   "display_name": "Python 3 (ipykernel)",
   "language": "python",
   "name": "python3"
  },
  "language_info": {
   "codemirror_mode": {
    "name": "ipython",
    "version": 3
   },
   "file_extension": ".py",
   "mimetype": "text/x-python",
   "name": "python",
   "nbconvert_exporter": "python",
   "pygments_lexer": "ipython3",
   "version": "3.9.7"
  }
 },
 "nbformat": 4,
 "nbformat_minor": 5
}
