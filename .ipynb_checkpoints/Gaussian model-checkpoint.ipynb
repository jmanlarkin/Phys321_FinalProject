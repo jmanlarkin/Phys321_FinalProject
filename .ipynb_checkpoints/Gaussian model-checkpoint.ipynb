{
 "cells": [
  {
   "cell_type": "code",
   "execution_count": 1,
   "id": "2c560bc6",
   "metadata": {},
   "outputs": [],
   "source": [
    "import numpy as np\n",
    "import matplotlib.pyplot as plt"
   ]
  },
  {
   "cell_type": "code",
   "execution_count": 28,
   "id": "2514d3b4",
   "metadata": {},
   "outputs": [
    {
     "data": {
      "text/plain": [
       "(array([ 2.,  1., 24., 37., 51., 66., 57., 37., 22.,  3.]),\n",
       " array([0.17825467, 0.23633513, 0.29441559, 0.35249606, 0.41057652,\n",
       "        0.46865698, 0.52673744, 0.58481791, 0.64289837, 0.70097883,\n",
       "        0.75905929]),\n",
       " <BarContainer object of 10 artists>)"
      ]
     },
     "execution_count": 28,
     "metadata": {},
     "output_type": "execute_result"
    },
    {
     "data": {
      "image/png": "[encoded data removed]",
      "text/plain": [
       "<Figure size 720x432 with 1 Axes>"
      ]
     },
     "metadata": {
      "needs_background": "light"
     },
     "output_type": "display_data"
    }
   ],
   "source": [
    "N = 300\n",
    "true_mu = 0.5\n",
    "true_sigma2 = 0.1\n",
    "\n",
    "np.random.seed(1111)\n",
    "x = range(1, N+1)\n",
    "y = np.sort(np.random.normal(true_mu, true_sigma2, N)) + 0.05*(np.random.rand(N) - np.random.rand(N))\n",
    "for i in range(len(y)):\n",
    "    if y[i] < 0:\n",
    "        y[i] = 0\n",
    "    elif y[i] > 1:\n",
    "        y[i] = 1\n",
    "yerr = 0.05 * np.random.rand(N)\n",
    "\n",
    "plt.figure(figsize = (10, 6))\n",
    "plt.hist(y, bins = 10)"
   ]
  },
  {
   "cell_type": "code",
   "execution_count": 39,
   "id": "dfc52839",
   "metadata": {},
   "outputs": [],
   "source": [
    "def log_likelihood(theta, y):\n",
    "    mu, sigma2 = theta\n",
    "    ll = np.log((1/sigma2**0.5)*np.exp(-1/(2*sigma2)*np.sum((y-mu)**2)))\n",
    "    if not np.isfinite(ll):\n",
    "        return -np.inf\n",
    "    return ll\n",
    "\n",
    "def log_prior(theta):\n",
    "    mu, sigma2 = theta\n",
    "    lp = np.log((1/sigma2**0.5)*np.exp(-(true_mu-mu)**2/(2*sigma2**2)))\n",
    "    if not np.isfinite(lp):\n",
    "        return -np.inf\n",
    "    return lp\n",
    "\n",
    "def log_posterior(theta, y):\n",
    "    lp = log_prior(theta)\n",
    "    ll = log_likelihood(theta, y)\n",
    "    if not np.isfinite(lp):\n",
    "        return -np.inf\n",
    "    if not np.isfinite(ll):\n",
    "        return -np.inf\n",
    "    return lp + ll"
   ]
  },
  {
   "cell_type": "code",
   "execution_count": 40,
   "id": "c0905540",
   "metadata": {},
   "outputs": [
    {
     "name": "stderr",
     "output_type": "stream",
     "text": [
      "  0%|                                                                                         | 0/5000 [00:00<?, ?it/s]C:\\Users\\slsun\\AppData\\Local\\Temp/ipykernel_16264/4112653676.py:10: RuntimeWarning: invalid value encountered in double_scalars\n",
      "  lp = np.log((1/sigma2**0.5)*np.exp(-(true_mu-mu)**2/(2*sigma2**2)))\n",
      "C:\\Users\\slsun\\AppData\\Local\\Temp/ipykernel_16264/4112653676.py:3: RuntimeWarning: invalid value encountered in double_scalars\n",
      "  ll = np.log((1/sigma2**0.5)*np.exp(-1/(2*sigma2)*np.sum((y-mu)**2)))\n",
      "  1%|▌                                                                              | 38/5000 [00:00<00:13, 379.99it/s]C:\\Users\\slsun\\AppData\\Local\\Temp/ipykernel_16264/4112653676.py:3: RuntimeWarning: overflow encountered in exp\n",
      "  ll = np.log((1/sigma2**0.5)*np.exp(-1/(2*sigma2)*np.sum((y-mu)**2)))\n",
      "  2%|█▏                                                                             | 76/5000 [00:00<00:12, 379.99it/s]C:\\Users\\slsun\\AppData\\Local\\Temp/ipykernel_16264/4112653676.py:10: RuntimeWarning: divide by zero encountered in log\n",
      "  lp = np.log((1/sigma2**0.5)*np.exp(-(true_mu-mu)**2/(2*sigma2**2)))\n",
      "C:\\Users\\slsun\\AppData\\Local\\Temp/ipykernel_16264/4112653676.py:3: RuntimeWarning: divide by zero encountered in log\n",
      "  ll = np.log((1/sigma2**0.5)*np.exp(-1/(2*sigma2)*np.sum((y-mu)**2)))\n",
      "100%|█████████████████████████████████████████████████████████████████████████████| 5000/5000 [00:13<00:00, 377.34it/s]\n"
     ]
    }
   ],
   "source": [
    "import emcee\n",
    "\n",
    "num_iter = 5000\n",
    "ndim = 2\n",
    "nwalkers = 32\n",
    "initial_pos = np.array((.5, .1)) + 0.01 * np.random.randn(nwalkers, ndim)\n",
    "\n",
    "sampler = emcee.EnsembleSampler(nwalkers, ndim, log_posterior, args=[y])\n",
    "sampler.run_mcmc(initial_pos, num_iter, progress=True);"
   ]
  },
  {
   "cell_type": "code",
   "execution_count": 41,
   "id": "2de76b33",
   "metadata": {},
   "outputs": [
    {
     "name": "stderr",
     "output_type": "stream",
     "text": [
      "WARNING:root:Too few points to create valid contours\n"
     ]
    },
    {
     "data": {
      "image/png": "[encoded data removed]",
      "text/plain": [
       "<Figure size 396x396 with 4 Axes>"
      ]
     },
     "metadata": {
      "needs_background": "light"
     },
     "output_type": "display_data"
    }
   ],
   "source": [
    "import corner\n",
    "\n",
    "flat_samples = sampler.get_chain(discard=100, thin=15, flat=True)\n",
    "\n",
    "labels = ['mu', 'sigma2']\n",
    "fig = corner.corner(flat_samples, labels=labels, quantiles=[0.16, 0.5, 0.84]);"
   ]
  },
  {
   "cell_type": "code",
   "execution_count": 27,
   "id": "81aaa2a1",
   "metadata": {},
   "outputs": [
    {
     "data": {
      "text/plain": [
       "Text(0, 0.5, 'Probability of winning')"
      ]
     },
     "execution_count": 27,
     "metadata": {},
     "output_type": "execute_result"
    },
    {
     "data": {
      "image/png": "[encoded data removed]",
      "text/plain": [
       "<Figure size 720x432 with 1 Axes>"
      ]
     },
     "metadata": {
      "needs_background": "light"
     },
     "output_type": "display_data"
    }
   ],
   "source": [
    "# Not useful for now\n",
    "\n",
    "inds = np.random.randint(len(flat_samples), size=100)\n",
    "x0 = np.linspace(0, 1, 300)\n",
    "f, ax = plt.subplots(figsize=(10,6))\n",
    "for ind in inds:\n",
    "    sample = flat_samples[ind]\n",
    "    ax.plot(x0, 1/(2*np.pi*sample[1])**0.5 * np.exp(-(x-sample[0])**2/(2*sample[1])), alpha=0.05, color='red')\n",
    "ax.errorbar(x, y, yerr=yerr, linestyle = 'None',capsize=1, marker ='o', color='black', ms=3)\n",
    "ax.set_xlim(0, 1)\n",
    "ax.set_ylim(0, 1)\n",
    "ax.set_xlabel('Approval', size = 12)\n",
    "ax.set_ylabel('Probability of winning', size = 12)"
   ]
  },
  {
   "cell_type": "code",
   "execution_count": null,
   "id": "fd91b849",
   "metadata": {},
   "outputs": [],
   "source": []
  },
  {
   "cell_type": "code",
   "execution_count": null,
   "id": "56a07caf",
   "metadata": {},
   "outputs": [],
   "source": []
  }
 ],
 "metadata": {
  "kernelspec": {
   "display_name": "Python 3 (ipykernel)",
   "language": "python",
   "name": "python3"
  },
  "language_info": {
   "codemirror_mode": {
    "name": "ipython",
    "version": 3
   },
   "file_extension": ".py",
   "mimetype": "text/x-python",
   "name": "python",
   "nbconvert_exporter": "python",
   "pygments_lexer": "ipython3",
   "version": "3.9.12"
  }
 },
 "nbformat": 4,
 "nbformat_minor": 5
}
