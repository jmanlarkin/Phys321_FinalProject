{
 "cells": [
  {
   "cell_type": "code",
   "execution_count": 2,
   "id": "1c12e589-7d17-48e4-b4d2-5a3aed08e149",
   "metadata": {},
   "outputs": [],
   "source": [
    "import numpy as np\n",
    "import matplotlib.pyplot as plt\n",
    "import pandas as pd\n",
    "from scipy.optimize import curve_fit\n",
    "from scipy.stats.distributions import chi2\n",
    "from os import listdir\n",
    "import matplotlib as mpl\n",
    "%matplotlib inline\n",
    "\n",
    "new_rc_params = {'text.usetex': False,\n",
    "    \"svg.fonttype\": 'none'\n",
    "    }\n",
    "mpl.rcParams.update(new_rc_params)"
   ]
  },
  {
   "cell_type": "code",
   "execution_count": 5,
   "id": "94e7a56a-0d3d-4f00-a644-b09e4f67f3aa",
   "metadata": {},
   "outputs": [
    {
     "name": "stdout",
     "output_type": "stream",
     "text": [
      "51\n"
     ]
    }
   ],
   "source": [
    "States = [\"Alaska\", \"Alabama\", \"Arkansas\", \"Arizona\", \"California\", \n",
    "          \"Colorado\", \"Connecticut\", \"District of Columbia\", \"Delaware\", \"Florida\", \n",
    "          \"Georgia\", \"Hawaii\", \"Iowa\", \"Idaho\", \"Illinois\", \"Indiana\", \"Kansas\", \n",
    "          \"Kentucky\", \"Louisiana\", \"Massachusetts\", \"Maryland\", \"Maine\", \"Michigan\", \"Minnesota\", \n",
    "          \"Missouri\", \"Mississippi\", \"Montana\", \"North Carolina\", \"North Dakota\", \"Nebraska\", \n",
    "          \"New Hampshire\", \"New Jersey\", \"New Mexico\", \"Nevada\", \"New York\", \"Ohio\", \"Oklahoma\", \n",
    "          \"Oregon\", \"Pennsylvania\", \"Rhode Island\", \"South Carolina\", \"South Dakota\", \n",
    "          \"Tennessee\", \"Texas\", \"Utah\", \"Virginia\", \"Vermont\", \"Washington\", \n",
    "          \"Wisconsin\", \"West Virginia\", \"Wyoming\"]\n",
    "\n",
    "print(len(States))"
   ]
  },
  {
   "cell_type": "code",
   "execution_count": null,
   "id": "3b806095-e341-4807-b509-1f29e2e0a2a0",
   "metadata": {},
   "outputs": [],
   "source": []
  }
 ],
 "metadata": {
  "kernelspec": {
   "display_name": "Python 3 (ipykernel)",
   "language": "python",
   "name": "python3"
  },
  "language_info": {
   "codemirror_mode": {
    "name": "ipython",
    "version": 3
   },
   "file_extension": ".py",
   "mimetype": "text/x-python",
   "name": "python",
   "nbconvert_exporter": "python",
   "pygments_lexer": "ipython3",
   "version": "3.9.7"
  }
 },
 "nbformat": 4,
 "nbformat_minor": 5
}
