{
 "cells": [
  {
   "cell_type": "code",
   "execution_count": 4,
   "id": "7ad4d199-7c38-493e-b31a-4365916569bf",
   "metadata": {},
   "outputs": [],
   "source": [
    "import numpy as np\n",
    "import matplotlib.pyplot as plt\n",
    "import pandas as pd\n",
    "from scipy.optimize import curve_fit\n",
    "from scipy.stats.distributions import chi2\n",
    "from os import listdir\n",
    "import matplotlib as mpl\n",
    "%matplotlib inline\n",
    "\n",
    "new_rc_params = {'text.usetex': False,\n",
    "    \"svg.fonttype\": 'none'\n",
    "    }\n",
    "mpl.rcParams.update(new_rc_params)"
   ]
  },
  {
   "cell_type": "code",
   "execution_count": 5,
   "id": "78d7bf42-5d5d-4d7e-94d8-60b12b42081c",
   "metadata": {},
   "outputs": [
    {
     "name": "stdout",
     "output_type": "stream",
     "text": [
      "['Alabama', 'Alaska', 'Arizona', 'Arkansas', 'California', 'Colorado', 'Connecticut', 'Delaware', 'District of Columbia', 'Florida', 'Georgia', 'Hawaii', 'Idaho', 'Illinois', 'Indiana', 'Iowa', 'Kansas', 'Kentucky', 'Louisiana', 'Maine', 'Maryland', 'Massachusetts', 'Michigan', 'Minnesota', 'Mississippi', 'Missouri', 'Montana', 'Nebraska', 'Nevada', 'New Hampshire', 'New Jersey', 'New Mexico', 'New York', 'North Carolina', 'North Dakota', 'Ohio', 'Oklahoma', 'Oregon', 'Pennsylvania', 'Rhode Island', 'South Carolina', 'South Dakota', 'Tennessee', 'Texas', 'Utah', 'Vermont', 'Virginia', 'Washington', 'West Virginia', 'Wisconsin', 'Wyoming']\n"
     ]
    }
   ],
   "source": [
    "States = sorted(['Alaska', 'Alabama', 'Arkansas', 'Arizona', 'California', \n",
    "          'Colorado', 'Connecticut', 'District of Columbia', 'Delaware', 'Florida', \n",
    "          'Georgia', 'Hawaii', 'Iowa', 'Idaho', 'Illinois', 'Indiana', 'Kansas', \n",
    "          'Kentucky', 'Louisiana', 'Massachusetts', 'Maryland', 'Maine', 'Michigan', 'Minnesota', \n",
    "          'Missouri', 'Mississippi', 'Montana', 'North Carolina', 'North Dakota', 'Nebraska', \n",
    "          'New Hampshire', 'New Jersey', 'New Mexico', 'Nevada', 'New York', 'Ohio', 'Oklahoma', \n",
    "          'Oregon', 'Pennsylvania', 'Rhode Island', 'South Carolina', 'South Dakota', \n",
    "          'Tennessee', 'Texas', 'Utah', 'Virginia', 'Vermont', 'Washington', \n",
    "          'Wisconsin', 'West Virginia', 'Wyoming'])\n",
    "print(States)"
   ]
  },
  {
   "cell_type": "code",
   "execution_count": 6,
   "id": "e413e4f6-cd08-43ab-85db-e98fe03e0ab4",
   "metadata": {},
   "outputs": [],
   "source": [
    "#Vote Margins in Historical Elections through 1976\n",
    "#[[Dem], [Rep]]; oldest to most recent\n",
    "Alabama_hist = [[0.557, 0.475, 0.383, 0.399, 0.409, 0.432, 0.416, 0.368, 0.387, 0.384, 0.344, 0.366], \n",
    "                [0.426, 0.488, 0.605, 0.592, 0.476, 0.501, 0.565, 0.625, 0.603, 0.606, 0.621, 0.620]]\n",
    "Alaska_hist = [[0.357, 0.264, 0.299, 0.363, 0.303, 0.333, 0.277, 0.355, 0.379, 0.408, 0.366, 0.428], \n",
    "               [0.579, 0.544, 0.667, 0.596, 0.395, 0.508, 0.586, 0.611, 0.594, 0.548, 0.513, 0.528]]\n",
    "Arizona_hist = [[0.398, 0.282, 0.325, 0.387, 0.365, 0.465, 0.447, 0.444, 0.451, 0.446, 0.451, 0.494], \n",
    "                [0.564, 0.606, 0.664, 0.600, 0.385, 0.443, 0.510, 0.549, 0.536, 0.537, 0.487, 0.491]]\n",
    "Arkansas_hist = [[], \n",
    "                 []]"
   ]
  },
  {
   "cell_type": "code",
   "execution_count": null,
   "id": "d94fd116-2e7d-476c-8811-5b4a26af6047",
   "metadata": {},
   "outputs": [],
   "source": []
  }
 ],
 "metadata": {
  "kernelspec": {
   "display_name": "Python 3 (ipykernel)",
   "language": "python",
   "name": "python3"
  },
  "language_info": {
   "codemirror_mode": {
    "name": "ipython",
    "version": 3
   },
   "file_extension": ".py",
   "mimetype": "text/x-python",
   "name": "python",
   "nbconvert_exporter": "python",
   "pygments_lexer": "ipython3",
   "version": "3.9.7"
  }
 },
 "nbformat": 4,
 "nbformat_minor": 5
}
