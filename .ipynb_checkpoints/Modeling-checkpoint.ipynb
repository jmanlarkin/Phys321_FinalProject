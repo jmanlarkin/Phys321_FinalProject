{
 "cells": [
  {
   "cell_type": "code",
   "execution_count": 4,
   "id": "7ad4d199-7c38-493e-b31a-4365916569bf",
   "metadata": {},
   "outputs": [],
   "source": [
    "import numpy as np\n",
    "import matplotlib.pyplot as plt\n",
    "import pandas as pd\n",
    "from scipy.optimize import curve_fit\n",
    "from scipy.stats.distributions import chi2\n",
    "from os import listdir\n",
    "import matplotlib as mpl\n",
    "%matplotlib inline\n",
    "\n",
    "new_rc_params = {'text.usetex': False,\n",
    "    \"svg.fonttype\": 'none'\n",
    "    }\n",
    "mpl.rcParams.update(new_rc_params)"
   ]
  },
  {
   "cell_type": "code",
   "execution_count": 204,
   "id": "d94fd116-2e7d-476c-8811-5b4a26af6047",
   "metadata": {},
   "outputs": [
    {
     "name": "stdout",
     "output_type": "stream",
     "text": [
      "[(1976, 'ALABAMA', 659170, 1182850, 'DEMOCRAT')\n",
      " (1976, 'ALABAMA', 504070, 1182850, 'REPUBLICAN')\n",
      " (1976, 'ALABAMA',   9198, 1182850, 'OTHER') ...\n",
      " (2020, 'WYOMING',   1739,  278503, 'OTHER')\n",
      " (2020, 'WYOMING',    279,  278503, 'OTHER')\n",
      " (2020, 'WYOMING',   1459,  278503, 'OTHER')]\n"
     ]
    }
   ],
   "source": [
    "#Voting history from all 51 'states' since 1976\n",
    "votinghistory_full = np.loadtxt('1976-2020-president.csv', delimiter=',', skiprows=1, usecols=(0, 1, 10, 11, 14), \n",
    "                        dtype=[('year', int), ('state', 'U25'), ('votes', int), ('total_votes', int), ('party', 'U20')])\n",
    "print(votinghistory_full)"
   ]
  },
  {
   "cell_type": "code",
   "execution_count": 205,
   "id": "69fe0a21-1ba7-407c-894f-445c117ec1bf",
   "metadata": {},
   "outputs": [],
   "source": [
    "#Voting results from only Democratic and Republican candidates\n",
    "index_dem = votinghistory_full['party'] == 'DEMOCRAT'\n",
    "index_rep = votinghistory_full['party'] == 'REPUBLICAN'\n",
    "votinghistory_dem = votinghistory_full[index_dem] # democrat results only\n",
    "votinghistory_rep = votinghistory_full[index_rep] # republican results only\n",
    "votinghistory = np.concatenate([votinghistory_dem, votinghistory_rep]) # combined results"
   ]
  },
  {
   "cell_type": "code",
   "execution_count": 206,
   "id": "27cf0c4e-1c37-4791-8ec5-c7280dd86809",
   "metadata": {},
   "outputs": [],
   "source": [
    "#Array of states in alphabetical order\n",
    "states = np.unique(votinghistory['state'])"
   ]
  },
  {
   "cell_type": "code",
   "execution_count": 233,
   "id": "48c011a4-b93c-4137-9c7f-65c99727d676",
   "metadata": {},
   "outputs": [],
   "source": [
    "# Now, considering all races between 1976 and 2016, we calculate the mean voteshare and variance for each state,\n",
    "# for each party, along with the full covariance matrix\n",
    "\n",
    "#Democrats\n",
    "index_dem_2016 = votinghistory_dem['year'] != 2020\n",
    "years = np.unique(votinghistory_dem[index_dem_2016]['year'])\n",
    "votinghistory_dem_2016 = votinghistory_dem[index_dem_2016]\n",
    "voteshare_dem = []\n",
    "for i in range(len(states)):\n",
    "    state = states[i]\n",
    "    index = votinghistory_dem_2016['state'] == str(state)\n",
    "    array = votinghistory_dem_2016[index]\n",
    "    out = []\n",
    "    for j in range(len(years)):\n",
    "        voteshare = array[j][2] / array[j][3]\n",
    "        out.append(voteshare)\n",
    "    voteshare_dem.append(out)\n",
    "cov_dem = np.cov(voteshare_dem, bias = True)\n",
    "var_dem = np.var(voteshare_dem, axis = 1)\n",
    "mean_dem = np.mean(voteshare_dem, axis = 1)\n",
    "\n",
    "#Republicans\n",
    "index_rep_2016 = votinghistory_rep['year'] != 2020\n",
    "years = np.unique(votinghistory_rep[index_rep_2016]['year'])\n",
    "votinghistory_rep_2016 = votinghistory_rep[index_rep_2016]\n",
    "voteshare_rep = []\n",
    "for i in range(len(states)):\n",
    "    state = states[i]\n",
    "    index = votinghistory_rep_2016['state'] == str(state)\n",
    "    array = votinghistory_rep_2016[index]\n",
    "    out = []\n",
    "    for j in range(len(years)):\n",
    "        voteshare = array[j][2] / array[j][3]\n",
    "        out.append(voteshare)\n",
    "    voteshare_rep.append(out)\n",
    "cov_rep = np.cov(voteshare_rep, bias = True)\n",
    "var_rep = np.var(voteshare_rep, axis = 1)\n",
    "mean_rep = np.mean(voteshare_rep, axis = 1)"
   ]
  },
  {
   "cell_type": "code",
   "execution_count": 248,
   "id": "2af263cf-ad2b-4e48-b878-6444dba22c78",
   "metadata": {},
   "outputs": [],
   "source": [
    "# Ingesting polling data from 2020 election\n",
    "polling_averages = np.loadtxt('presidential_general_averages.csv', delimiter=',', skiprows = 1, usecols = (0, 1, 2, 3), \n",
    "                              dtype=[('candidate', 'U20'), ('date', 'U10'), ('approval', float), ('state', 'U25')])\n",
    "\n",
    "index_biden = polling_averages['candidate'] == 'Joseph R. Biden Jr.'\n",
    "index_trump = polling_averages['candidate'] == 'Donald Trump'\n",
    "polls_biden = polling_averages[index_biden]\n",
    "polls_trump = polling_averages[index_trump]"
   ]
  },
  {
   "cell_type": "code",
   "execution_count": 251,
   "id": "63d8b7f8-993e-47a2-b2ae-3dd93a777e96",
   "metadata": {},
   "outputs": [
    {
     "name": "stdout",
     "output_type": "stream",
     "text": [
      "[('Donald Trump', '2020-11-03', 57.36126, 'Alabama')\n",
      " ('Donald Trump', '2020-11-02', 57.36126, 'Alabama')\n",
      " ('Donald Trump', '2020-11-01', 57.47665, 'Alabama') ...\n",
      " ('Donald Trump', '2020-10-05', 67.8956 , 'Wyoming')\n",
      " ('Donald Trump', '2020-10-04', 67.95186, 'Wyoming')\n",
      " ('Donald Trump', '2020-10-03', 68.04157, 'Wyoming')]\n"
     ]
    }
   ],
   "source": []
  },
  {
   "cell_type": "code",
   "execution_count": null,
   "id": "fecdb4c1-b883-43bc-a762-1446607b7ce2",
   "metadata": {},
   "outputs": [],
   "source": []
  }
 ],
 "metadata": {
  "kernelspec": {
   "display_name": "Python 3 (ipykernel)",
   "language": "python",
   "name": "python3"
  },
  "language_info": {
   "codemirror_mode": {
    "name": "ipython",
    "version": 3
   },
   "file_extension": ".py",
   "mimetype": "text/x-python",
   "name": "python",
   "nbconvert_exporter": "python",
   "pygments_lexer": "ipython3",
   "version": "3.9.7"
  }
 },
 "nbformat": 4,
 "nbformat_minor": 5
}
